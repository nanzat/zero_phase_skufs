{
 "cells": [
  {
   "cell_type": "code",
   "execution_count": 9,
   "id": "4ae51eba-3319-4f86-a4d5-b36b436fe516",
   "metadata": {},
   "outputs": [],
   "source": [
    "import pandas as pd\n",
    "from sklearn.preprocessing import LabelEncoder"
   ]
  },
  {
   "cell_type": "markdown",
   "id": "51134caa-7ac7-40c3-8689-6281150e55c0",
   "metadata": {},
   "source": [
    "## Загружаем датасет"
   ]
  },
  {
   "cell_type": "code",
   "execution_count": 4,
   "id": "a22833a6-518f-4a1c-8654-fac4c5cbeac7",
   "metadata": {},
   "outputs": [
    {
     "data": {
      "text/html": [
       "<div>\n",
       "<style scoped>\n",
       "    .dataframe tbody tr th:only-of-type {\n",
       "        vertical-align: middle;\n",
       "    }\n",
       "\n",
       "    .dataframe tbody tr th {\n",
       "        vertical-align: top;\n",
       "    }\n",
       "\n",
       "    .dataframe thead th {\n",
       "        text-align: right;\n",
       "    }\n",
       "</style>\n",
       "<table border=\"1\" class=\"dataframe\">\n",
       "  <thead>\n",
       "    <tr style=\"text-align: right;\">\n",
       "      <th></th>\n",
       "      <th>id</th>\n",
       "      <th>num_rooms</th>\n",
       "      <th>metro</th>\n",
       "      <th>address</th>\n",
       "      <th>area_m2</th>\n",
       "      <th>parking</th>\n",
       "      <th>price</th>\n",
       "      <th>repair</th>\n",
       "      <th>balcony</th>\n",
       "    </tr>\n",
       "  </thead>\n",
       "  <tbody>\n",
       "    <tr>\n",
       "      <th>0</th>\n",
       "      <td>271271157</td>\n",
       "      <td>4.0</td>\n",
       "      <td>Смоленская</td>\n",
       "      <td>Москва</td>\n",
       "      <td>200.0/20.0</td>\n",
       "      <td>подземная</td>\n",
       "      <td>500000.0 руб./ За месяц, Залог - 500000 руб., ...</td>\n",
       "      <td>Дизайнерский</td>\n",
       "      <td>нет</td>\n",
       "    </tr>\n",
       "    <tr>\n",
       "      <th>1</th>\n",
       "      <td>271634126</td>\n",
       "      <td>4.0</td>\n",
       "      <td>Смоленская</td>\n",
       "      <td>Москва</td>\n",
       "      <td>198.0/95.0/18.0</td>\n",
       "      <td>подземная</td>\n",
       "      <td>500000.0 руб./ За месяц, Залог - 500000 руб., ...</td>\n",
       "      <td>Дизайнерский</td>\n",
       "      <td>нет</td>\n",
       "    </tr>\n",
       "    <tr>\n",
       "      <th>2</th>\n",
       "      <td>271173086</td>\n",
       "      <td>4.0</td>\n",
       "      <td>Смоленская</td>\n",
       "      <td>Москва</td>\n",
       "      <td>200.0/116.0/4.0</td>\n",
       "      <td>подземная</td>\n",
       "      <td>500000.0 руб./ За месяц, Залог - 500000 руб., ...</td>\n",
       "      <td>Евроремонт</td>\n",
       "      <td>нет</td>\n",
       "    </tr>\n",
       "    <tr>\n",
       "      <th>3</th>\n",
       "      <td>272197456</td>\n",
       "      <td>4.0</td>\n",
       "      <td>Смоленская</td>\n",
       "      <td>Москва</td>\n",
       "      <td>170.0/95.0/17.0</td>\n",
       "      <td>подземная</td>\n",
       "      <td>400000.0 руб./ За месяц, Залог - 400000 руб., ...</td>\n",
       "      <td>Евроремонт</td>\n",
       "      <td>нет</td>\n",
       "    </tr>\n",
       "    <tr>\n",
       "      <th>4</th>\n",
       "      <td>273614615</td>\n",
       "      <td>2.0</td>\n",
       "      <td>Арбатская</td>\n",
       "      <td>Москва</td>\n",
       "      <td>58.0/38.0/5.0</td>\n",
       "      <td>нет</td>\n",
       "      <td>225000.0 руб./ За месяц, Залог - 225000 руб., ...</td>\n",
       "      <td>Евроремонт</td>\n",
       "      <td>нет</td>\n",
       "    </tr>\n",
       "  </tbody>\n",
       "</table>\n",
       "</div>"
      ],
      "text/plain": [
       "          id  num_rooms       metro address          area_m2    parking  \\\n",
       "0  271271157        4.0  Смоленская  Москва       200.0/20.0  подземная   \n",
       "1  271634126        4.0  Смоленская  Москва  198.0/95.0/18.0  подземная   \n",
       "2  271173086        4.0  Смоленская  Москва  200.0/116.0/4.0  подземная   \n",
       "3  272197456        4.0  Смоленская  Москва  170.0/95.0/17.0  подземная   \n",
       "4  273614615        2.0   Арбатская  Москва    58.0/38.0/5.0        нет   \n",
       "\n",
       "                                               price        repair balcony  \n",
       "0  500000.0 руб./ За месяц, Залог - 500000 руб., ...  Дизайнерский     нет  \n",
       "1  500000.0 руб./ За месяц, Залог - 500000 руб., ...  Дизайнерский     нет  \n",
       "2  500000.0 руб./ За месяц, Залог - 500000 руб., ...    Евроремонт     нет  \n",
       "3  400000.0 руб./ За месяц, Залог - 400000 руб., ...    Евроремонт     нет  \n",
       "4  225000.0 руб./ За месяц, Залог - 225000 руб., ...    Евроремонт     нет  "
      ]
     },
     "execution_count": 4,
     "metadata": {},
     "output_type": "execute_result"
    }
   ],
   "source": [
    "df = pd.read_csv('../releases/release2/data.csv')\n",
    "df.head()"
   ]
  },
  {
   "cell_type": "markdown",
   "id": "c0f26453-4aec-4946-9845-6f6ea9d6c8d4",
   "metadata": {},
   "source": [
    "## В \"area_m2\" оставим только одно число"
   ]
  },
  {
   "cell_type": "code",
   "execution_count": 5,
   "id": "c997bdba-817c-4489-b611-75e97fdb22fe",
   "metadata": {},
   "outputs": [
    {
     "data": {
      "text/plain": [
       "0        200.0\n",
       "1        198.0\n",
       "2        200.0\n",
       "3        170.0\n",
       "4         58.0\n",
       "         ...  \n",
       "22048     35.0\n",
       "22049     38.7\n",
       "22050     43.1\n",
       "22051     52.5\n",
       "22052     90.0\n",
       "Name: area_m2, Length: 22053, dtype: float64"
      ]
     },
     "execution_count": 5,
     "metadata": {},
     "output_type": "execute_result"
    }
   ],
   "source": [
    "df['area_m2'] = df['area_m2'].apply(lambda x: float(x.split(\"/\")[0]) if type(x) is str else x)\n",
    "df['area_m2']"
   ]
  },
  {
   "cell_type": "markdown",
   "id": "c20a52ba-323c-45f9-b221-5b35bba1104c",
   "metadata": {},
   "source": [
    "## В \"price\" оставим только цену аренды, а предыдущее значение скопируем в другой столбец для последующих операций"
   ]
  },
  {
   "cell_type": "code",
   "execution_count": 6,
   "id": "4eb42c41-e07b-4697-a4c0-ea9330a540c2",
   "metadata": {},
   "outputs": [
    {
     "data": {
      "text/plain": [
       "0        500000.0\n",
       "1        500000.0\n",
       "2        500000.0\n",
       "3        400000.0\n",
       "4        225000.0\n",
       "           ...   \n",
       "22048     42000.0\n",
       "22049     45000.0\n",
       "22050     50000.0\n",
       "22051     55000.0\n",
       "22052     57000.0\n",
       "Name: price, Length: 22053, dtype: float64"
      ]
     },
     "execution_count": 6,
     "metadata": {},
     "output_type": "execute_result"
    }
   ],
   "source": [
    "df['rent'] = df['price']\n",
    "df['price'] = pd.to_numeric(df['price'].apply(lambda x: x.split()[0]))\n",
    "df['price']"
   ]
  },
  {
   "cell_type": "markdown",
   "id": "7a59c50d-ecde-49f0-a5cf-b1658a881940",
   "metadata": {},
   "source": [
    "## Из нового столбца возьмем информацию о коммунальных услугах"
   ]
  },
  {
   "cell_type": "code",
   "execution_count": 7,
   "id": "7dbfc42c-95d2-4b78-9351-347f2e42d562",
   "metadata": {},
   "outputs": [
    {
     "data": {
      "text/plain": [
       "0        yes\n",
       "1        yes\n",
       "2         no\n",
       "3         no\n",
       "4        yes\n",
       "        ... \n",
       "22048    yes\n",
       "22049    yes\n",
       "22050    yes\n",
       "22051    yes\n",
       "22052    yes\n",
       "Name: rent, Length: 22053, dtype: object"
      ]
     },
     "execution_count": 7,
     "metadata": {},
     "output_type": "execute_result"
    }
   ],
   "source": [
    "df['rent'] = df['rent'].apply(lambda x: \"yes\" if \"Коммунальные услуги включены\" in x else \"no\")\n",
    "df['rent']"
   ]
  },
  {
   "cell_type": "markdown",
   "id": "d5b01157-536e-4b2f-8d07-3d5ae6e7633e",
   "metadata": {},
   "source": [
    "## На этом мы решили закончить Feature engineering, но есть некоторые идеи по его дополнению:\n",
    "## Добавить колонку с расстоянием до центра города, конверитруя Адрес в координаты и вычисляя расстояние;\n",
    "## И используя те же координаты создать колонку района города, в котором находится дом;\n",
    "## Также в удаленном столбце Описание есть много неоднородной информации, например слова: люкс, особняк и т.д., этот столбец можно подать на вход языковой модели для выявления данных слов и потом уже работать с выжимкой из Описания."
   ]
  },
  {
   "cell_type": "markdown",
   "id": "bb8a3f47-02e0-4760-b254-73edc0674051",
   "metadata": {},
   "source": [
    "## Далее закодируем категориальные признаки"
   ]
  },
  {
   "cell_type": "code",
   "execution_count": 10,
   "id": "a52b05e3-1237-43e5-a9f0-78419ab853b4",
   "metadata": {},
   "outputs": [
    {
     "data": {
      "text/html": [
       "<div>\n",
       "<style scoped>\n",
       "    .dataframe tbody tr th:only-of-type {\n",
       "        vertical-align: middle;\n",
       "    }\n",
       "\n",
       "    .dataframe tbody tr th {\n",
       "        vertical-align: top;\n",
       "    }\n",
       "\n",
       "    .dataframe thead th {\n",
       "        text-align: right;\n",
       "    }\n",
       "</style>\n",
       "<table border=\"1\" class=\"dataframe\">\n",
       "  <thead>\n",
       "    <tr style=\"text-align: right;\">\n",
       "      <th></th>\n",
       "      <th>id</th>\n",
       "      <th>num_rooms</th>\n",
       "      <th>metro</th>\n",
       "      <th>address</th>\n",
       "      <th>area_m2</th>\n",
       "      <th>parking</th>\n",
       "      <th>price</th>\n",
       "      <th>repair</th>\n",
       "      <th>balcony</th>\n",
       "      <th>rent</th>\n",
       "    </tr>\n",
       "  </thead>\n",
       "  <tbody>\n",
       "    <tr>\n",
       "      <th>0</th>\n",
       "      <td>271271157</td>\n",
       "      <td>4.0</td>\n",
       "      <td>239</td>\n",
       "      <td>0</td>\n",
       "      <td>200.0</td>\n",
       "      <td>5</td>\n",
       "      <td>500000.0</td>\n",
       "      <td>1</td>\n",
       "      <td>18</td>\n",
       "      <td>1</td>\n",
       "    </tr>\n",
       "    <tr>\n",
       "      <th>1</th>\n",
       "      <td>271634126</td>\n",
       "      <td>4.0</td>\n",
       "      <td>239</td>\n",
       "      <td>0</td>\n",
       "      <td>198.0</td>\n",
       "      <td>5</td>\n",
       "      <td>500000.0</td>\n",
       "      <td>1</td>\n",
       "      <td>18</td>\n",
       "      <td>1</td>\n",
       "    </tr>\n",
       "    <tr>\n",
       "      <th>2</th>\n",
       "      <td>271173086</td>\n",
       "      <td>4.0</td>\n",
       "      <td>239</td>\n",
       "      <td>0</td>\n",
       "      <td>200.0</td>\n",
       "      <td>5</td>\n",
       "      <td>500000.0</td>\n",
       "      <td>2</td>\n",
       "      <td>18</td>\n",
       "      <td>0</td>\n",
       "    </tr>\n",
       "    <tr>\n",
       "      <th>3</th>\n",
       "      <td>272197456</td>\n",
       "      <td>4.0</td>\n",
       "      <td>239</td>\n",
       "      <td>0</td>\n",
       "      <td>170.0</td>\n",
       "      <td>5</td>\n",
       "      <td>400000.0</td>\n",
       "      <td>2</td>\n",
       "      <td>18</td>\n",
       "      <td>0</td>\n",
       "    </tr>\n",
       "    <tr>\n",
       "      <th>4</th>\n",
       "      <td>273614615</td>\n",
       "      <td>2.0</td>\n",
       "      <td>12</td>\n",
       "      <td>0</td>\n",
       "      <td>58.0</td>\n",
       "      <td>3</td>\n",
       "      <td>225000.0</td>\n",
       "      <td>2</td>\n",
       "      <td>18</td>\n",
       "      <td>1</td>\n",
       "    </tr>\n",
       "  </tbody>\n",
       "</table>\n",
       "</div>"
      ],
      "text/plain": [
       "          id  num_rooms  metro  address  area_m2  parking     price  repair  \\\n",
       "0  271271157        4.0    239        0    200.0        5  500000.0       1   \n",
       "1  271634126        4.0    239        0    198.0        5  500000.0       1   \n",
       "2  271173086        4.0    239        0    200.0        5  500000.0       2   \n",
       "3  272197456        4.0    239        0    170.0        5  400000.0       2   \n",
       "4  273614615        2.0     12        0     58.0        3  225000.0       2   \n",
       "\n",
       "   balcony  rent  \n",
       "0       18     1  \n",
       "1       18     1  \n",
       "2       18     0  \n",
       "3       18     0  \n",
       "4       18     1  "
      ]
     },
     "execution_count": 10,
     "metadata": {},
     "output_type": "execute_result"
    }
   ],
   "source": [
    "for i in ['metro', 'address', 'parking', 'repair', 'balcony', 'rent']:\n",
    "    label_encoder = LabelEncoder()\n",
    "    df[i] = label_encoder.fit_transform(df[i])\n",
    "df.head()"
   ]
  },
  {
   "cell_type": "markdown",
   "id": "2ba30ca9-8466-4789-8e8b-66857e397b1e",
   "metadata": {},
   "source": [
    "## Уберем строки с выбросами цены"
   ]
  },
  {
   "cell_type": "code",
   "execution_count": 13,
   "id": "b2b3a12f-1892-40c9-a3c1-cf16f0177391",
   "metadata": {},
   "outputs": [],
   "source": [
    "q_low = df[\"price\"].quantile(0.01)\n",
    "q_hi  = df[\"price\"].quantile(0.99)\n",
    "\n",
    "df_filtered = df[(df[\"price\"] < q_hi) & (df[\"price\"] > q_low)]"
   ]
  },
  {
   "cell_type": "markdown",
   "id": "de213d2a-9334-4fac-ba61-5fede503f365",
   "metadata": {},
   "source": [
    "## Теперь нормализуем наши данные"
   ]
  },
  {
   "cell_type": "markdown",
   "id": "588c58ef-10c6-4dba-aecd-2d6016a5de29",
   "metadata": {},
   "source": [
    "## Разница по цене с выбросами и без значительная"
   ]
  },
  {
   "cell_type": "code",
   "execution_count": 11,
   "id": "5a1b7269-fa8a-40d9-9059-181c47008392",
   "metadata": {},
   "outputs": [
    {
     "data": {
      "text/html": [
       "<div>\n",
       "<style scoped>\n",
       "    .dataframe tbody tr th:only-of-type {\n",
       "        vertical-align: middle;\n",
       "    }\n",
       "\n",
       "    .dataframe tbody tr th {\n",
       "        vertical-align: top;\n",
       "    }\n",
       "\n",
       "    .dataframe thead th {\n",
       "        text-align: right;\n",
       "    }\n",
       "</style>\n",
       "<table border=\"1\" class=\"dataframe\">\n",
       "  <thead>\n",
       "    <tr style=\"text-align: right;\">\n",
       "      <th></th>\n",
       "      <th>id</th>\n",
       "      <th>num_rooms</th>\n",
       "      <th>metro</th>\n",
       "      <th>address</th>\n",
       "      <th>area_m2</th>\n",
       "      <th>parking</th>\n",
       "      <th>price</th>\n",
       "      <th>repair</th>\n",
       "      <th>balcony</th>\n",
       "      <th>rent</th>\n",
       "    </tr>\n",
       "  </thead>\n",
       "  <tbody>\n",
       "    <tr>\n",
       "      <th>0</th>\n",
       "      <td>0.977727</td>\n",
       "      <td>0.6</td>\n",
       "      <td>0.778502</td>\n",
       "      <td>0.0</td>\n",
       "      <td>0.240050</td>\n",
       "      <td>1.0</td>\n",
       "      <td>0.165275</td>\n",
       "      <td>0.333333</td>\n",
       "      <td>1.0</td>\n",
       "      <td>1.0</td>\n",
       "    </tr>\n",
       "    <tr>\n",
       "      <th>1</th>\n",
       "      <td>0.979892</td>\n",
       "      <td>0.6</td>\n",
       "      <td>0.778502</td>\n",
       "      <td>0.0</td>\n",
       "      <td>0.237562</td>\n",
       "      <td>1.0</td>\n",
       "      <td>0.165275</td>\n",
       "      <td>0.333333</td>\n",
       "      <td>1.0</td>\n",
       "      <td>1.0</td>\n",
       "    </tr>\n",
       "    <tr>\n",
       "      <th>2</th>\n",
       "      <td>0.977143</td>\n",
       "      <td>0.6</td>\n",
       "      <td>0.778502</td>\n",
       "      <td>0.0</td>\n",
       "      <td>0.240050</td>\n",
       "      <td>1.0</td>\n",
       "      <td>0.165275</td>\n",
       "      <td>0.666667</td>\n",
       "      <td>1.0</td>\n",
       "      <td>0.0</td>\n",
       "    </tr>\n",
       "    <tr>\n",
       "      <th>3</th>\n",
       "      <td>0.983251</td>\n",
       "      <td>0.6</td>\n",
       "      <td>0.778502</td>\n",
       "      <td>0.0</td>\n",
       "      <td>0.202736</td>\n",
       "      <td>1.0</td>\n",
       "      <td>0.131886</td>\n",
       "      <td>0.666667</td>\n",
       "      <td>1.0</td>\n",
       "      <td>0.0</td>\n",
       "    </tr>\n",
       "    <tr>\n",
       "      <th>4</th>\n",
       "      <td>0.991701</td>\n",
       "      <td>0.2</td>\n",
       "      <td>0.039088</td>\n",
       "      <td>0.0</td>\n",
       "      <td>0.063433</td>\n",
       "      <td>0.6</td>\n",
       "      <td>0.073456</td>\n",
       "      <td>0.666667</td>\n",
       "      <td>1.0</td>\n",
       "      <td>1.0</td>\n",
       "    </tr>\n",
       "  </tbody>\n",
       "</table>\n",
       "</div>"
      ],
      "text/plain": [
       "         id  num_rooms     metro  address   area_m2  parking     price  \\\n",
       "0  0.977727        0.6  0.778502      0.0  0.240050      1.0  0.165275   \n",
       "1  0.979892        0.6  0.778502      0.0  0.237562      1.0  0.165275   \n",
       "2  0.977143        0.6  0.778502      0.0  0.240050      1.0  0.165275   \n",
       "3  0.983251        0.6  0.778502      0.0  0.202736      1.0  0.131886   \n",
       "4  0.991701        0.2  0.039088      0.0  0.063433      0.6  0.073456   \n",
       "\n",
       "     repair  balcony  rent  \n",
       "0  0.333333      1.0   1.0  \n",
       "1  0.333333      1.0   1.0  \n",
       "2  0.666667      1.0   0.0  \n",
       "3  0.666667      1.0   0.0  \n",
       "4  0.666667      1.0   1.0  "
      ]
     },
     "execution_count": 11,
     "metadata": {},
     "output_type": "execute_result"
    }
   ],
   "source": [
    "normalized_df=(df-df.min())/(df.max()-df.min())\n",
    "normalized_df.head()"
   ]
  },
  {
   "cell_type": "code",
   "execution_count": 14,
   "id": "28afce87-8c82-453e-b00c-9c8cc05c697d",
   "metadata": {},
   "outputs": [
    {
     "data": {
      "text/html": [
       "<div>\n",
       "<style scoped>\n",
       "    .dataframe tbody tr th:only-of-type {\n",
       "        vertical-align: middle;\n",
       "    }\n",
       "\n",
       "    .dataframe tbody tr th {\n",
       "        vertical-align: top;\n",
       "    }\n",
       "\n",
       "    .dataframe thead th {\n",
       "        text-align: right;\n",
       "    }\n",
       "</style>\n",
       "<table border=\"1\" class=\"dataframe\">\n",
       "  <thead>\n",
       "    <tr style=\"text-align: right;\">\n",
       "      <th></th>\n",
       "      <th>id</th>\n",
       "      <th>num_rooms</th>\n",
       "      <th>metro</th>\n",
       "      <th>address</th>\n",
       "      <th>area_m2</th>\n",
       "      <th>parking</th>\n",
       "      <th>price</th>\n",
       "      <th>repair</th>\n",
       "      <th>balcony</th>\n",
       "      <th>rent</th>\n",
       "    </tr>\n",
       "  </thead>\n",
       "  <tbody>\n",
       "    <tr>\n",
       "      <th>0</th>\n",
       "      <td>0.977727</td>\n",
       "      <td>0.6</td>\n",
       "      <td>0.778502</td>\n",
       "      <td>0.0</td>\n",
       "      <td>0.243380</td>\n",
       "      <td>1.0</td>\n",
       "      <td>0.842547</td>\n",
       "      <td>0.333333</td>\n",
       "      <td>1.0</td>\n",
       "      <td>1.0</td>\n",
       "    </tr>\n",
       "    <tr>\n",
       "      <th>1</th>\n",
       "      <td>0.979892</td>\n",
       "      <td>0.6</td>\n",
       "      <td>0.778502</td>\n",
       "      <td>0.0</td>\n",
       "      <td>0.240858</td>\n",
       "      <td>1.0</td>\n",
       "      <td>0.842547</td>\n",
       "      <td>0.333333</td>\n",
       "      <td>1.0</td>\n",
       "      <td>1.0</td>\n",
       "    </tr>\n",
       "    <tr>\n",
       "      <th>2</th>\n",
       "      <td>0.977143</td>\n",
       "      <td>0.6</td>\n",
       "      <td>0.778502</td>\n",
       "      <td>0.0</td>\n",
       "      <td>0.243380</td>\n",
       "      <td>1.0</td>\n",
       "      <td>0.842547</td>\n",
       "      <td>0.666667</td>\n",
       "      <td>1.0</td>\n",
       "      <td>0.0</td>\n",
       "    </tr>\n",
       "    <tr>\n",
       "      <th>3</th>\n",
       "      <td>0.983251</td>\n",
       "      <td>0.6</td>\n",
       "      <td>0.778502</td>\n",
       "      <td>0.0</td>\n",
       "      <td>0.205549</td>\n",
       "      <td>1.0</td>\n",
       "      <td>0.667600</td>\n",
       "      <td>0.666667</td>\n",
       "      <td>1.0</td>\n",
       "      <td>0.0</td>\n",
       "    </tr>\n",
       "    <tr>\n",
       "      <th>4</th>\n",
       "      <td>0.991701</td>\n",
       "      <td>0.2</td>\n",
       "      <td>0.039088</td>\n",
       "      <td>0.0</td>\n",
       "      <td>0.064313</td>\n",
       "      <td>0.6</td>\n",
       "      <td>0.361442</td>\n",
       "      <td>0.666667</td>\n",
       "      <td>1.0</td>\n",
       "      <td>1.0</td>\n",
       "    </tr>\n",
       "  </tbody>\n",
       "</table>\n",
       "</div>"
      ],
      "text/plain": [
       "         id  num_rooms     metro  address   area_m2  parking     price  \\\n",
       "0  0.977727        0.6  0.778502      0.0  0.243380      1.0  0.842547   \n",
       "1  0.979892        0.6  0.778502      0.0  0.240858      1.0  0.842547   \n",
       "2  0.977143        0.6  0.778502      0.0  0.243380      1.0  0.842547   \n",
       "3  0.983251        0.6  0.778502      0.0  0.205549      1.0  0.667600   \n",
       "4  0.991701        0.2  0.039088      0.0  0.064313      0.6  0.361442   \n",
       "\n",
       "     repair  balcony  rent  \n",
       "0  0.333333      1.0   1.0  \n",
       "1  0.333333      1.0   1.0  \n",
       "2  0.666667      1.0   0.0  \n",
       "3  0.666667      1.0   0.0  \n",
       "4  0.666667      1.0   1.0  "
      ]
     },
     "execution_count": 14,
     "metadata": {},
     "output_type": "execute_result"
    }
   ],
   "source": [
    "normalized_df=(df_filtered-df_filtered.min())/(df_filtered.max()-df_filtered.min())\n",
    "normalized_df.head()"
   ]
  },
  {
   "cell_type": "markdown",
   "id": "14d65370-488b-4b88-8f99-6700b7ccccad",
   "metadata": {},
   "source": [
    "## Сохраним полученный датасет"
   ]
  },
  {
   "cell_type": "code",
   "execution_count": 15,
   "id": "ad416ee9-c609-492a-9c02-42b266af6646",
   "metadata": {},
   "outputs": [],
   "source": [
    "normalized_df.to_csv('data1.csv', index=False)"
   ]
  }
 ],
 "metadata": {
  "kernelspec": {
   "display_name": "Python 3 (ipykernel)",
   "language": "python",
   "name": "python3"
  },
  "language_info": {
   "codemirror_mode": {
    "name": "ipython",
    "version": 3
   },
   "file_extension": ".py",
   "mimetype": "text/x-python",
   "name": "python",
   "nbconvert_exporter": "python",
   "pygments_lexer": "ipython3",
   "version": "3.12.7"
  }
 },
 "nbformat": 4,
 "nbformat_minor": 5
}
